{
 "cells": [
  {
   "cell_type": "markdown",
   "id": "9d92e0a2",
   "metadata": {},
   "source": [
    "# OOP Calisma Not Defteri"
   ]
  },
  {
   "cell_type": "markdown",
   "id": "a6465547",
   "metadata": {},
   "source": [
    "Python'da Nesne Yönelimli Programlama (OOP), yazılım geliştirme sürecinde kodun daha organize ve yönetilebilir olmasını sağlar. İşte temel bir örnekle OOP'nin nasıl kullanılacağını göstereceğim:"
   ]
  },
  {
   "cell_type": "markdown",
   "id": "0ac5cfab",
   "metadata": {},
   "source": [
    "1. Sınıf Tanımlama ve Nesne Oluşturma"
   ]
  },
  {
   "cell_type": "code",
   "execution_count": null,
   "id": "2f48b17c",
   "metadata": {},
   "outputs": [],
   "source": [
    "class Araba:\n",
    "    def __init__(self, marka, model, yil):\n",
    "        self.marka = marka\n",
    "        self.model = model\n",
    "        self.yil = yil\n",
    "\n",
    "    def bilgileri_goster(self):\n",
    "        print(f\"Marka: {self.marka}, Model: {self.model}, Yıl: {self.yil}\")\n",
    "\n",
    "# Nesne oluşturma\n",
    "araba1 = Araba(\"Toyota\", \"Corolla\", 2020)\n",
    "araba2 = Araba(\"Ford\", \"Mustang\", 2021)\n",
    "\n",
    "# Nesne bilgilerini gösterme\n",
    "araba1.bilgileri_goster()\n",
    "araba2.bilgileri_goster()\n"
   ]
  },
  {
   "cell_type": "markdown",
   "id": "8c311039",
   "metadata": {},
   "source": [
    "2. Miras Alma (Inheritance)"
   ]
  },
  {
   "cell_type": "code",
   "execution_count": null,
   "id": "f5de1d64",
   "metadata": {},
   "outputs": [],
   "source": [
    "class ElektrikliAraba(Araba):\n",
    "    def __init__(self, marka, model, yil, batarya_kapasitesi):\n",
    "        super().__init__(marka, model, yil)\n",
    "        self.batarya_kapasitesi = batarya_kapasitesi\n",
    "\n",
    "    def bilgileri_goster(self):\n",
    "        super().bilgileri_goster()\n",
    "        print(f\"Batarya Kapasitesi: {self.batarya_kapasitesi} kWh\")\n",
    "\n",
    "# Nesne oluşturma\n",
    "elektrikli_araba = ElektrikliAraba(\"Tesla\", \"Model S\", 2022, 100)\n",
    "\n",
    "# Nesne bilgilerini gösterme\n",
    "elektrikli_araba.bilgileri_goster()\n"
   ]
  },
  {
   "cell_type": "markdown",
   "id": "645cc3db",
   "metadata": {},
   "source": [
    "3. Polimorfizm (Polymorphism)"
   ]
  },
  {
   "cell_type": "code",
   "execution_count": null,
   "id": "24f020e2",
   "metadata": {},
   "outputs": [],
   "source": [
    "class Hayvan:\n",
    "    def ses_cikar(self):\n",
    "        pass\n",
    "\n",
    "class Kedi(Hayvan):\n",
    "    def ses_cikar(self):\n",
    "        print(\"Miyav\")\n",
    "\n",
    "class Kopek(Hayvan):\n",
    "    def ses_cikar(self):\n",
    "        print(\"Hav\")\n",
    "\n",
    "def hayvan_sesi(hayvan):\n",
    "    hayvan.ses_cikar()\n",
    "\n",
    "# Nesne oluşturma\n",
    "kedi = Kedi()\n",
    "kopek = Kopek()\n",
    "\n",
    "# Polimorfizm kullanımı\n",
    "hayvan_sesi(kedi)\n",
    "hayvan_sesi(kopek)\n"
   ]
  },
  {
   "cell_type": "markdown",
   "id": "d690f83f",
   "metadata": {},
   "source": []
  }
 ],
 "metadata": {
  "language_info": {
   "name": "python"
  }
 },
 "nbformat": 4,
 "nbformat_minor": 5
}
